{
 "cells": [
  {
   "cell_type": "code",
   "execution_count": 1,
   "id": "59703935",
   "metadata": {},
   "outputs": [],
   "source": [
    "import pandas as pd"
   ]
  },
  {
   "cell_type": "markdown",
   "id": "3069c5a2",
   "metadata": {},
   "source": [
    "## Exercises Part 1"
   ]
  },
  {
   "cell_type": "markdown",
   "id": "c4b6023a",
   "metadata": {},
   "source": [
    "#### Use pandas to create a Series named fruits from the following list:"
   ]
  },
  {
   "cell_type": "code",
   "execution_count": 2,
   "id": "5c9309c0",
   "metadata": {},
   "outputs": [
    {
     "data": {
      "text/plain": [
       "0                 kiwi\n",
       "1                mango\n",
       "2           strawberry\n",
       "3            pineapple\n",
       "4           gala apple\n",
       "5     honeycrisp apple\n",
       "6               tomato\n",
       "7           watermelon\n",
       "8             honeydew\n",
       "9                 kiwi\n",
       "10                kiwi\n",
       "11                kiwi\n",
       "12               mango\n",
       "13           blueberry\n",
       "14          blackberry\n",
       "15          gooseberry\n",
       "16              papaya\n",
       "dtype: object"
      ]
     },
     "execution_count": 2,
     "metadata": {},
     "output_type": "execute_result"
    }
   ],
   "source": [
    "fruits = pd.Series([\"kiwi\", \"mango\", \"strawberry\", \"pineapple\", \"gala apple\", \"honeycrisp apple\", \n",
    "                    \"tomato\", \"watermelon\", \"honeydew\", \"kiwi\", \"kiwi\", \"kiwi\", \"mango\", \"blueberry\", \n",
    "                    \"blackberry\", \"gooseberry\", \"papaya\"])\n",
    "fruits"
   ]
  },
  {
   "cell_type": "markdown",
   "id": "5919a830",
   "metadata": {},
   "source": [
    "### Use Series attributes and methods to explore your fruits Series.\n",
    "\n",
    "#### 1.  Determine the number of elements in fruits.\n"
   ]
  },
  {
   "cell_type": "code",
   "execution_count": 3,
   "id": "e2e08f28",
   "metadata": {},
   "outputs": [
    {
     "data": {
      "text/plain": [
       "17"
      ]
     },
     "execution_count": 3,
     "metadata": {},
     "output_type": "execute_result"
    }
   ],
   "source": [
    "fruits.count()"
   ]
  },
  {
   "cell_type": "markdown",
   "id": "20a31346",
   "metadata": {},
   "source": [
    "#### 2. Output only the index from fruits.\n"
   ]
  },
  {
   "cell_type": "code",
   "execution_count": 4,
   "id": "3fa47c74",
   "metadata": {},
   "outputs": [
    {
     "data": {
      "text/plain": [
       "RangeIndex(start=0, stop=17, step=1)"
      ]
     },
     "execution_count": 4,
     "metadata": {},
     "output_type": "execute_result"
    }
   ],
   "source": [
    "fruits.index"
   ]
  },
  {
   "cell_type": "markdown",
   "id": "fa49fd12",
   "metadata": {},
   "source": [
    "#### 3. Output only the values from fruits.\n"
   ]
  },
  {
   "cell_type": "code",
   "execution_count": 5,
   "id": "894185ea",
   "metadata": {},
   "outputs": [
    {
     "data": {
      "text/plain": [
       "array(['kiwi', 'mango', 'strawberry', 'pineapple', 'gala apple',\n",
       "       'honeycrisp apple', 'tomato', 'watermelon', 'honeydew', 'kiwi',\n",
       "       'kiwi', 'kiwi', 'mango', 'blueberry', 'blackberry', 'gooseberry',\n",
       "       'papaya'], dtype=object)"
      ]
     },
     "execution_count": 5,
     "metadata": {},
     "output_type": "execute_result"
    }
   ],
   "source": [
    "fruits.values"
   ]
  },
  {
   "cell_type": "markdown",
   "id": "cb1aec0b",
   "metadata": {},
   "source": [
    "#### 4. Confirm the data type of the values in fruits.\n"
   ]
  },
  {
   "cell_type": "code",
   "execution_count": 6,
   "id": "7b39535c",
   "metadata": {},
   "outputs": [
    {
     "name": "stdout",
     "output_type": "stream",
     "text": [
      "<class 'pandas.core.series.Series'>\n"
     ]
    }
   ],
   "source": [
    "print(type(fruits))\n",
    "#dtype = pandas Series"
   ]
  },
  {
   "cell_type": "code",
   "execution_count": 7,
   "id": "dc482373",
   "metadata": {},
   "outputs": [
    {
     "name": "stdout",
     "output_type": "stream",
     "text": [
      "<class 'numpy.ndarray'>\n"
     ]
    }
   ],
   "source": [
    "print(type(fruits.values)) \n",
    "# dtype = np.ndarray"
   ]
  },
  {
   "cell_type": "code",
   "execution_count": 8,
   "id": "5774f0ad",
   "metadata": {},
   "outputs": [
    {
     "name": "stdout",
     "output_type": "stream",
     "text": [
      "kiwi <class 'str'>\n",
      "mango <class 'str'>\n",
      "strawberry <class 'str'>\n",
      "pineapple <class 'str'>\n",
      "gala apple <class 'str'>\n",
      "honeycrisp apple <class 'str'>\n",
      "tomato <class 'str'>\n",
      "watermelon <class 'str'>\n",
      "honeydew <class 'str'>\n",
      "kiwi <class 'str'>\n",
      "kiwi <class 'str'>\n",
      "kiwi <class 'str'>\n",
      "mango <class 'str'>\n",
      "blueberry <class 'str'>\n",
      "blackberry <class 'str'>\n",
      "gooseberry <class 'str'>\n",
      "papaya <class 'str'>\n"
     ]
    }
   ],
   "source": [
    "for elem in fruits:\n",
    "    print(elem, type(elem))\n",
    "# dtype = str"
   ]
  },
  {
   "cell_type": "markdown",
   "id": "7f2c5c47",
   "metadata": {},
   "source": [
    "#### 5. Output only the first five values from fruits. \n"
   ]
  },
  {
   "cell_type": "code",
   "execution_count": 9,
   "id": "981f4b23",
   "metadata": {},
   "outputs": [
    {
     "data": {
      "text/plain": [
       "0          kiwi\n",
       "1         mango\n",
       "2    strawberry\n",
       "3     pineapple\n",
       "4    gala apple\n",
       "dtype: object"
      ]
     },
     "execution_count": 9,
     "metadata": {},
     "output_type": "execute_result"
    }
   ],
   "source": [
    "fruits.head()"
   ]
  },
  {
   "cell_type": "markdown",
   "id": "1ac55cce",
   "metadata": {},
   "source": [
    "#### Output the last three values. "
   ]
  },
  {
   "cell_type": "code",
   "execution_count": 10,
   "id": "ca065c3a",
   "metadata": {},
   "outputs": [
    {
     "data": {
      "text/plain": [
       "14    blackberry\n",
       "15    gooseberry\n",
       "16        papaya\n",
       "dtype: object"
      ]
     },
     "execution_count": 10,
     "metadata": {},
     "output_type": "execute_result"
    }
   ],
   "source": [
    "fruits.tail(3)"
   ]
  },
  {
   "cell_type": "markdown",
   "id": "d48d4600",
   "metadata": {},
   "source": [
    "#### Output two random values from fruits."
   ]
  },
  {
   "cell_type": "code",
   "execution_count": 11,
   "id": "910a4919",
   "metadata": {},
   "outputs": [
    {
     "data": {
      "text/plain": [
       "4    gala apple\n",
       "2    strawberry\n",
       "dtype: object"
      ]
     },
     "execution_count": 11,
     "metadata": {},
     "output_type": "execute_result"
    }
   ],
   "source": [
    "fruits.sample(2)"
   ]
  },
  {
   "cell_type": "markdown",
   "id": "be4a0b19",
   "metadata": {},
   "source": [
    "#### 6. Run the .describe() on fruits to see what information it returns when called on a Series with string values."
   ]
  },
  {
   "cell_type": "code",
   "execution_count": 12,
   "id": "2ad27841",
   "metadata": {},
   "outputs": [
    {
     "data": {
      "text/plain": [
       "count       17\n",
       "unique      13\n",
       "top       kiwi\n",
       "freq         4\n",
       "dtype: object"
      ]
     },
     "execution_count": 12,
     "metadata": {},
     "output_type": "execute_result"
    }
   ],
   "source": [
    "fruits.describe()"
   ]
  },
  {
   "cell_type": "markdown",
   "id": "7d5e5f7a",
   "metadata": {},
   "source": [
    "#### 7. Run the code necessary to produce only the unique string values from fruits.\n"
   ]
  },
  {
   "cell_type": "code",
   "execution_count": 13,
   "id": "efffb038",
   "metadata": {},
   "outputs": [
    {
     "data": {
      "text/plain": [
       "array(['kiwi', 'mango', 'strawberry', 'pineapple', 'gala apple',\n",
       "       'honeycrisp apple', 'tomato', 'watermelon', 'honeydew',\n",
       "       'blueberry', 'blackberry', 'gooseberry', 'papaya'], dtype=object)"
      ]
     },
     "execution_count": 13,
     "metadata": {},
     "output_type": "execute_result"
    }
   ],
   "source": [
    "fruits.unique()"
   ]
  },
  {
   "cell_type": "markdown",
   "id": "9b285606",
   "metadata": {},
   "source": [
    "#### 8. Determine how many times each unique string value occurs in fruits.\n"
   ]
  },
  {
   "cell_type": "code",
   "execution_count": 14,
   "id": "c2e76f5b",
   "metadata": {},
   "outputs": [
    {
     "data": {
      "text/plain": [
       "kiwi                4\n",
       "mango               2\n",
       "strawberry          1\n",
       "pineapple           1\n",
       "gala apple          1\n",
       "honeycrisp apple    1\n",
       "tomato              1\n",
       "watermelon          1\n",
       "honeydew            1\n",
       "blueberry           1\n",
       "blackberry          1\n",
       "gooseberry          1\n",
       "papaya              1\n",
       "dtype: int64"
      ]
     },
     "execution_count": 14,
     "metadata": {},
     "output_type": "execute_result"
    }
   ],
   "source": [
    "fruits.value_counts()"
   ]
  },
  {
   "cell_type": "markdown",
   "id": "05f0f139",
   "metadata": {},
   "source": [
    "#### 9. Determine the string value that occurs most frequently in fruits.\n"
   ]
  },
  {
   "cell_type": "code",
   "execution_count": 15,
   "id": "72978b09",
   "metadata": {},
   "outputs": [
    {
     "data": {
      "text/plain": [
       "kiwi    4\n",
       "dtype: int64"
      ]
     },
     "execution_count": 15,
     "metadata": {},
     "output_type": "execute_result"
    }
   ],
   "source": [
    "fruits.value_counts().nlargest(n=1, keep='all')"
   ]
  },
  {
   "cell_type": "markdown",
   "id": "dfa9458d",
   "metadata": {},
   "source": [
    "#### 10. Determine the string value that occurs least frequently in fruits.\n"
   ]
  },
  {
   "cell_type": "code",
   "execution_count": 16,
   "id": "8fd2d8b3",
   "metadata": {},
   "outputs": [
    {
     "data": {
      "text/plain": [
       "strawberry          1\n",
       "pineapple           1\n",
       "gala apple          1\n",
       "honeycrisp apple    1\n",
       "tomato              1\n",
       "watermelon          1\n",
       "honeydew            1\n",
       "blueberry           1\n",
       "blackberry          1\n",
       "gooseberry          1\n",
       "papaya              1\n",
       "dtype: int64"
      ]
     },
     "execution_count": 16,
     "metadata": {},
     "output_type": "execute_result"
    }
   ],
   "source": [
    "fruits.value_counts().nsmallest(n=1, keep='all')"
   ]
  },
  {
   "cell_type": "markdown",
   "id": "344442c8",
   "metadata": {},
   "source": [
    "## Exercises Part 2"
   ]
  },
  {
   "cell_type": "markdown",
   "id": "6ec19a2f",
   "metadata": {},
   "source": [
    "#### 1. Capitalize all the string values in fruits.\n"
   ]
  },
  {
   "cell_type": "code",
   "execution_count": 17,
   "id": "c379772e",
   "metadata": {},
   "outputs": [
    {
     "data": {
      "text/plain": [
       "0                 Kiwi\n",
       "1                Mango\n",
       "2           Strawberry\n",
       "3            Pineapple\n",
       "4           Gala apple\n",
       "5     Honeycrisp apple\n",
       "6               Tomato\n",
       "7           Watermelon\n",
       "8             Honeydew\n",
       "9                 Kiwi\n",
       "10                Kiwi\n",
       "11                Kiwi\n",
       "12               Mango\n",
       "13           Blueberry\n",
       "14          Blackberry\n",
       "15          Gooseberry\n",
       "16              Papaya\n",
       "dtype: object"
      ]
     },
     "execution_count": 17,
     "metadata": {},
     "output_type": "execute_result"
    }
   ],
   "source": [
    "fruits.str.capitalize()"
   ]
  },
  {
   "cell_type": "markdown",
   "id": "6e73e899",
   "metadata": {},
   "source": [
    "#### 2. Count the letter \"a\" in all the string values (use string vectorization).\n"
   ]
  },
  {
   "cell_type": "code",
   "execution_count": 18,
   "id": "8c5347a2",
   "metadata": {},
   "outputs": [
    {
     "data": {
      "text/plain": [
       "0     0\n",
       "1     1\n",
       "2     1\n",
       "3     1\n",
       "4     3\n",
       "5     1\n",
       "6     1\n",
       "7     1\n",
       "8     0\n",
       "9     0\n",
       "10    0\n",
       "11    0\n",
       "12    1\n",
       "13    0\n",
       "14    1\n",
       "15    0\n",
       "16    3\n",
       "dtype: int64"
      ]
     },
     "execution_count": 18,
     "metadata": {},
     "output_type": "execute_result"
    }
   ],
   "source": [
    "fruits.str.count('a')"
   ]
  },
  {
   "cell_type": "markdown",
   "id": "f3be4855",
   "metadata": {},
   "source": [
    "#### 3. Output the number of vowels in each and every string value.\n"
   ]
  },
  {
   "cell_type": "code",
   "execution_count": 19,
   "id": "da43835d",
   "metadata": {},
   "outputs": [],
   "source": [
    "def is_vowel(letter):\n",
    "    return letter in 'aeiouAEIOU'\n",
    "\n",
    "def count_vowels(somestring):\n",
    "    return len([ltr for ltr in somestring if is_vowel(ltr)])"
   ]
  },
  {
   "cell_type": "code",
   "execution_count": 20,
   "id": "2a959950",
   "metadata": {},
   "outputs": [
    {
     "data": {
      "text/plain": [
       "0     2\n",
       "1     2\n",
       "2     2\n",
       "3     4\n",
       "4     4\n",
       "5     5\n",
       "6     3\n",
       "7     4\n",
       "8     3\n",
       "9     2\n",
       "10    2\n",
       "11    2\n",
       "12    2\n",
       "13    3\n",
       "14    2\n",
       "15    4\n",
       "16    3\n",
       "dtype: int64"
      ]
     },
     "execution_count": 20,
     "metadata": {},
     "output_type": "execute_result"
    }
   ],
   "source": [
    "fruits.apply(count_vowels)"
   ]
  },
  {
   "cell_type": "markdown",
   "id": "89366ab5",
   "metadata": {},
   "source": [
    "#### 4. Write the code to get the longest string value from fruits.\n"
   ]
  },
  {
   "cell_type": "code",
   "execution_count": 21,
   "id": "38d3b535",
   "metadata": {},
   "outputs": [
    {
     "data": {
      "text/plain": [
       "5    honeycrisp apple\n",
       "dtype: object"
      ]
     },
     "execution_count": 21,
     "metadata": {},
     "output_type": "execute_result"
    }
   ],
   "source": [
    "fruits[fruits.str.len() == fruits.str.len().max()]"
   ]
  },
  {
   "cell_type": "markdown",
   "id": "7e5e56b1",
   "metadata": {},
   "source": [
    "#### 5. Write the code to get the string values with 5 or more letters in the name.\n"
   ]
  },
  {
   "cell_type": "code",
   "execution_count": 22,
   "id": "bda7e494",
   "metadata": {},
   "outputs": [
    {
     "data": {
      "text/plain": [
       "1                mango\n",
       "2           strawberry\n",
       "3            pineapple\n",
       "4           gala apple\n",
       "5     honeycrisp apple\n",
       "6               tomato\n",
       "7           watermelon\n",
       "8             honeydew\n",
       "12               mango\n",
       "13           blueberry\n",
       "14          blackberry\n",
       "15          gooseberry\n",
       "16              papaya\n",
       "dtype: object"
      ]
     },
     "execution_count": 22,
     "metadata": {},
     "output_type": "execute_result"
    }
   ],
   "source": [
    "fruits[fruits.str.len().values >= 5]"
   ]
  },
  {
   "cell_type": "markdown",
   "id": "61e9cda4",
   "metadata": {},
   "source": [
    "#### 6. Use the .apply method with a lambda function to find the fruit(s) containing the letter \"o\" two or more times.\n"
   ]
  },
  {
   "cell_type": "code",
   "execution_count": 23,
   "id": "3d21defe",
   "metadata": {},
   "outputs": [
    {
     "data": {
      "text/plain": [
       "6         tomato\n",
       "15    gooseberry\n",
       "dtype: object"
      ]
     },
     "execution_count": 23,
     "metadata": {},
     "output_type": "execute_result"
    }
   ],
   "source": [
    "fruits[fruits.apply(lambda fruit: fruit.count('o') >= 2)]"
   ]
  },
  {
   "cell_type": "markdown",
   "id": "1937dbcb",
   "metadata": {},
   "source": [
    "#### 7. Write the code to get only the string values containing the substring \"berry\".\n"
   ]
  },
  {
   "cell_type": "code",
   "execution_count": 24,
   "id": "60b64aa8",
   "metadata": {},
   "outputs": [
    {
     "data": {
      "text/plain": [
       "2     strawberry\n",
       "13     blueberry\n",
       "14    blackberry\n",
       "15    gooseberry\n",
       "dtype: object"
      ]
     },
     "execution_count": 24,
     "metadata": {},
     "output_type": "execute_result"
    }
   ],
   "source": [
    "fruits[fruits.apply(lambda fruit: 'berry' in fruit)]"
   ]
  },
  {
   "cell_type": "markdown",
   "id": "c681f38b",
   "metadata": {},
   "source": [
    "#### 8. Write the code to get only the string values containing the substring \"apple\".\n"
   ]
  },
  {
   "cell_type": "code",
   "execution_count": 25,
   "id": "f33e8e14",
   "metadata": {},
   "outputs": [
    {
     "data": {
      "text/plain": [
       "3           pineapple\n",
       "4          gala apple\n",
       "5    honeycrisp apple\n",
       "dtype: object"
      ]
     },
     "execution_count": 25,
     "metadata": {},
     "output_type": "execute_result"
    }
   ],
   "source": [
    "fruits[fruits.apply(lambda fruit: 'apple' in fruit)]"
   ]
  },
  {
   "cell_type": "markdown",
   "id": "9f7a4656",
   "metadata": {},
   "source": [
    "#### 9. Which string value contains the most vowels?\n"
   ]
  },
  {
   "cell_type": "code",
   "execution_count": 26,
   "id": "3c62ba4e",
   "metadata": {},
   "outputs": [],
   "source": [
    "def is_vowel(letter):\n",
    "    return letter in 'aeiouAEIOU'\n",
    "\n",
    "def count_vowels(somestring):\n",
    "    return len([ltr for ltr in somestring if is_vowel(ltr)])\n",
    "\n",
    "fruit_vowel_counts = fruits.apply(lambda fruit: count_vowels(fruit))"
   ]
  },
  {
   "cell_type": "code",
   "execution_count": 27,
   "id": "b5906c09",
   "metadata": {},
   "outputs": [
    {
     "data": {
      "text/plain": [
       "5    honeycrisp apple\n",
       "dtype: object"
      ]
     },
     "execution_count": 27,
     "metadata": {},
     "output_type": "execute_result"
    }
   ],
   "source": [
    "fruits[fruit_vowel_counts == fruit_vowel_counts.max()]"
   ]
  }
 ],
 "metadata": {
  "kernelspec": {
   "display_name": "Python 3 (ipykernel)",
   "language": "python",
   "name": "python3"
  },
  "language_info": {
   "codemirror_mode": {
    "name": "ipython",
    "version": 3
   },
   "file_extension": ".py",
   "mimetype": "text/x-python",
   "name": "python",
   "nbconvert_exporter": "python",
   "pygments_lexer": "ipython3",
   "version": "3.9.7"
  }
 },
 "nbformat": 4,
 "nbformat_minor": 5
}
